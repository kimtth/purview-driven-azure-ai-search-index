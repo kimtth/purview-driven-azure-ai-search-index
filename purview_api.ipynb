{
 "cells": [
  {
   "cell_type": "markdown",
   "id": "c4d2d62e",
   "metadata": {},
   "source": [
    "## Purview Credential from the Purview API."
   ]
  },
  {
   "cell_type": "code",
   "execution_count": 16,
   "id": "68cbfda3",
   "metadata": {},
   "outputs": [],
   "source": [
    "from azure.purview.scanning import PurviewScanningClient\n",
    "from azure.identity import ClientSecretCredential \n",
    "from azure.purview.administration.account import PurviewAccountClient\n",
    "from dotenv import load_dotenv\n",
    "\n",
    "import os\n",
    "\n",
    "load_dotenv()\n",
    "\n",
    "client_id = os.environ.get(\"AZURE_CLIENT_ID\")\n",
    "client_secret = os.environ.get(\"AZURE_CLIENT_SECRET\")\n",
    "tenant_id = os.environ.get(\"AZURE_TENANT_ID\")\n",
    "purview_endpoint = os.environ.get(\"PURVIEW_ENDPOINT\")\n",
    "purview_scan_endpoint = os.environ.get(\"PURVIEW_SCAN_ENDPOINT\")\n",
    "\n",
    "def get_credentials():\n",
    "\tcredentials = ClientSecretCredential(client_id=client_id, client_secret=client_secret, tenant_id=tenant_id)\n",
    "\treturn credentials\n",
    "\n",
    "def get_purview_client():\n",
    "\tcredentials = get_credentials()\n",
    "\tclient = PurviewScanningClient(endpoint=purview_scan_endpoint, credential=credentials, logging_enable=True)  \n",
    "\treturn client\n",
    "\n",
    "def get_admin_client():\n",
    "\tcredentials = get_credentials()\n",
    "\tclient = PurviewAccountClient(endpoint=purview_endpoint, credential=credentials, logging_enable=True)\n",
    "\treturn client"
   ]
  },
  {
   "cell_type": "code",
   "execution_count": 17,
   "id": "fed9bcae",
   "metadata": {},
   "outputs": [],
   "source": [
    "credential = get_credentials()"
   ]
  },
  {
   "cell_type": "code",
   "execution_count": 22,
   "id": "d289c132",
   "metadata": {},
   "outputs": [],
   "source": [
    "token_obj = credential.get_token('https://purview.azure.net/.default')"
   ]
  },
  {
   "cell_type": "markdown",
   "id": "badefa08",
   "metadata": {},
   "source": [
    "#### If your Tenant is restricted to issue a token due to security issue, Please try to get the token in VPN. \n",
    "#### Without VPN, you may get the error \"AADSTS500011: The resource principal named https://purview.azure.net was not found in the tenant named ...\""
   ]
  },
  {
   "cell_type": "code",
   "execution_count": null,
   "id": "db5fb442",
   "metadata": {},
   "outputs": [
    {
     "name": "stdout",
     "output_type": "stream",
     "text": [
      "Search API call failed: {\"requestId\":\"ea4924cc-90a1-4725-a48d-d411a4910c5e\",\"errorCode\":\"ATLAS-404-00-005\",\"errorMessage\":\"Given instance guid search is invalid/not found\"}\n"
     ]
    }
   ],
   "source": [
    "# Set up the headers for the Purview Search API request\n",
    "import requests\n",
    "access_token = token_obj.token\n",
    "\n",
    "headers = {\n",
    "    \"Authorization\": f\"Bearer {access_token}\",\n",
    "    \"Content-Type\": \"application/json\"\n",
    "}\n",
    "\n",
    "# Define the search query (customize as needed)\n",
    "search_url = f\"https://{purview_endpoint}/catalog/api/atlas/v2/glossary/search\"\n",
    "\n",
    "# Make the search API request\n",
    "response = requests.get(search_url, headers=headers)\n",
    "\n",
    "# Check and print the response\n",
    "if response.status_code == 200:\n",
    "    search_results = response.json().get('entities', [])\n",
    "    print(f\"Search returned {len(search_results)} results:\")\n",
    "else:\n",
    "    print(f\"Search API call failed: {response.text}\")"
   ]
  },
  {
   "cell_type": "markdown",
   "id": "705e5eab",
   "metadata": {},
   "source": [
    "## Device code flow (MFA) or Acquire a token interactively"
   ]
  },
  {
   "cell_type": "code",
   "execution_count": null,
   "id": "3fdc1e9c",
   "metadata": {},
   "outputs": [],
   "source": [
    "import msal\n",
    "import requests\n",
    "\n",
    "# Azure AD App Registration settings\n",
    "# Azure AD and Purview settings\n",
    "client_id = os.environ.get(\"AZURE_CLIENT_ID\")\n",
    "tenant_id = os.environ.get(\"AZURE_TENANT_ID\")\n",
    "purview_endpoint = os.environ.get(\"PURVIEW_ENDPOINT\")\n",
    "\n",
    "\n",
    "# Authentication authority and scope for Purview API\n",
    "authority = f\"https://login.microsoftonline.com/{tenant_id}\"\n",
    "scope = [\"https://purview.azure.net/.default\"]  # API scope for Azure Purview\n",
    "\n",
    "# Initialize MSAL public client application\n",
    "app = msal.PublicClientApplication(client_id, authority=authority)\n",
    "\n",
    "# Initiate the device code flow for interactive authentication\n",
    "flow = app.initiate_device_flow(scopes=scope)\n",
    "if \"user_code\" not in flow:\n",
    "    raise Exception(\"Device flow initiation failed.\")\n",
    "\n",
    "# Display the code and URL for the user to authenticate\n",
    "print(f\"Go to {flow['verification_uri']} and enter the code: {flow['user_code']}\")\n",
    "\n",
    "# Wait for user to complete authentication and MFA\n",
    "token_result = app.acquire_token_by_device_flow(flow)\n",
    "if \"access_token\" not in token_result:\n",
    "    raise Exception(f\"Authentication failed: {token_result.get('error_description')}\")\n",
    "\n",
    "access_token = token_result['access_token']\n",
    "\n",
    "# Set up the headers for the Purview Search API request\n",
    "headers = {\n",
    "    \"Authorization\": f\"Bearer {access_token}\",\n",
    "    \"Content-Type\": \"application/json\"\n",
    "}\n",
    "\n",
    "# Define the search query (customize as needed)\n",
    "search_url = f\"{purview_endpoint}/catalog/api/atlas/v2/search/advanced\"\n",
    "search_body = {\n",
    "    \"keywords\": \"Product\",  # Replace with your search term\n",
    "    \"limit\": 10  # Limit the number of search results\n",
    "}\n",
    "\n",
    "# Make the search API request\n",
    "response = requests.post(search_url, json=search_body, headers=headers)\n",
    "\n",
    "# Check and print the response\n",
    "if response.status_code == 200:\n",
    "    search_results = response.json().get('entities', [])\n",
    "    for asset in search_results:\n",
    "        print(f\"Name: {asset['attributes']['name']}, Type: {asset['typeName']}, GUID: {asset['guid']}\")\n",
    "else:\n",
    "    print(f\"Search API call failed: {response.text}\")"
   ]
  },
  {
   "cell_type": "code",
   "execution_count": null,
   "id": "dbdb046d",
   "metadata": {},
   "outputs": [],
   "source": [
    "import msal\n",
    "\n",
    "# Azure AD App Registration settings\n",
    "# Azure AD and Purview settings\n",
    "client_id = os.environ.get(\"AZURE_CLIENT_ID\")\n",
    "tenant_id = os.environ.get(\"AZURE_TENANT_ID\")\n",
    "purview_endpoint = os.environ.get(\"PURVIEW_ENDPOINT\")\n",
    "\n",
    "\n",
    "# Authentication authority and scope for Purview API\n",
    "authority = f\"https://login.microsoftonline.com/{tenant_id}\"\n",
    "scope = [\"https://purview.azure.net/.default\"]  # API scope for Azure Purview\n",
    "\n",
    "# Initialize MSAL public client application\n",
    "app = msal.PublicClientApplication(client_id, authority=authority)\n",
    "\n",
    "result = app.acquire_token_interactive(scopes=scope)\n",
    "\n",
    "if \"access_token\" in result:\n",
    "    print(\"Access token acquired:\")\n",
    "    print(result[\"access_token\"])\n",
    "else:\n",
    "    print(\"Failed to acquire token:\")\n",
    "    print(result.get(\"error_description\"))\n"
   ]
  }
 ],
 "metadata": {
  "kernelspec": {
   "display_name": "purview-driven-azure-ai-search-index-py3.12 (3.12.10)",
   "language": "python",
   "name": "python3"
  },
  "language_info": {
   "codemirror_mode": {
    "name": "ipython",
    "version": 3
   },
   "file_extension": ".py",
   "mimetype": "text/x-python",
   "name": "python",
   "nbconvert_exporter": "python",
   "pygments_lexer": "ipython3",
   "version": "3.12.10"
  }
 },
 "nbformat": 4,
 "nbformat_minor": 5
}
